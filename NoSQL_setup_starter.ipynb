{
 "cells": [
  {
   "cell_type": "markdown",
   "id": "9a57c4c6",
   "metadata": {},
   "source": [
    "# Eat Safe, Love"
   ]
  },
  {
   "cell_type": "markdown",
   "id": "064ef857",
   "metadata": {},
   "source": [
    "## Part 1: Database and Jupyter Notebook Set Up"
   ]
  },
  {
   "cell_type": "markdown",
   "id": "664e3c1f",
   "metadata": {},
   "source": [
    "Import the data provided in the `establishments.json` file from your Terminal. Name the database `uk_food` and the collection `establishments`.\n",
    "\n",
    "Within this markdown cell, copy the line of text you used to import the data from your Terminal. This way, future analysts will be able to repeat your process.\n",
    "\n",
    "e.g.: Import the dataset with `YOUR IMPORT TEXT HERE`"
   ]
  },
  {
   "cell_type": "code",
   "execution_count": 5,
   "id": "47cad834-d088-4707-ac02-9aca7d813394",
   "metadata": {},
   "outputs": [
    {
     "name": "stdout",
     "output_type": "stream",
     "text": [
      "Requirement already satisfied: pymongo in c:\\users\\stona\\onedrive\\documents\\python scripts\\lib\\site-packages (4.10.1)\n",
      "Requirement already satisfied: dnspython<3.0.0,>=1.16.0 in c:\\users\\stona\\onedrive\\documents\\python scripts\\lib\\site-packages (from pymongo) (2.7.0)\n"
     ]
    }
   ],
   "source": [
    "!pip install pymongo"
   ]
  },
  {
   "cell_type": "code",
   "execution_count": 6,
   "id": "3ecdd008",
   "metadata": {},
   "outputs": [],
   "source": [
    "# Import dependencies\n",
    "from pymongo import MongoClient\n",
    "from pprint import pprint"
   ]
  },
  {
   "cell_type": "code",
   "execution_count": 7,
   "id": "59390c4a",
   "metadata": {},
   "outputs": [],
   "source": [
    "# Create an instance of MongoClient\n",
    "mongo = MongoClient(port=27017)"
   ]
  },
  {
   "cell_type": "code",
   "execution_count": 8,
   "id": "7f9ececa",
   "metadata": {},
   "outputs": [
    {
     "data": {
      "text/plain": [
       "['admin', 'config', 'local', 'met', 'uk_food']"
      ]
     },
     "execution_count": 8,
     "metadata": {},
     "output_type": "execute_result"
    }
   ],
   "source": [
    "# confirm that our new database was created\n",
    "mongo.list_database_names()"
   ]
  },
  {
   "cell_type": "code",
   "execution_count": 9,
   "id": "71e373c1",
   "metadata": {},
   "outputs": [],
   "source": [
    "# assign the uk_food database to a variable name\n",
    "db = mongo['uk_food']"
   ]
  },
  {
   "cell_type": "code",
   "execution_count": 10,
   "id": "ef1b89ed",
   "metadata": {},
   "outputs": [],
   "source": [
    "# review the collections in our new database\n",
    "collections = db.list_collection_names() "
   ]
  },
  {
   "cell_type": "code",
   "execution_count": 11,
   "id": "18ab463c",
   "metadata": {},
   "outputs": [],
   "source": [
    "# review the collections in our new database\n",
    "collections = db.list_collection_names()"
   ]
  },
  {
   "cell_type": "code",
   "execution_count": 12,
   "id": "6a0d92df",
   "metadata": {},
   "outputs": [],
   "source": [
    "# review a document in the establishments collection\n",
    "establishment = db.establishments.find_one()"
   ]
  },
  {
   "cell_type": "code",
   "execution_count": 13,
   "id": "11c9f11b",
   "metadata": {},
   "outputs": [],
   "source": [
    "# assign the collection to a variable\n",
    "establishments = db['establishments']"
   ]
  },
  {
   "cell_type": "markdown",
   "id": "d5671434",
   "metadata": {},
   "source": [
    "## Part 2: Update the Database"
   ]
  },
  {
   "cell_type": "markdown",
   "id": "314bd884",
   "metadata": {},
   "source": [
    "1. An exciting new halal restaurant just opened in Greenwich, but hasn't been rated yet. The magazine has asked you to include it in your analysis. Add the following restaurant \"Penang Flavours\" to the database."
   ]
  },
  {
   "cell_type": "code",
   "execution_count": 78,
   "id": "c2da7648",
   "metadata": {},
   "outputs": [],
   "source": [
    "# Create a dictionary for the new restaurant data\n",
    "new_restaurant = {\n",
    "    \"business_name\": \"Penang Flavours\",\n",
    "    \"business_type\": \"Restaurant\",\n",
    "    \"address\": {\n",
    "        \"street\": \"123 Greenwich High Road\",\n",
    "        \"city\": \"Greenwich\",\n",
    "        \"postcode\": \"SE10 8JA\"\n",
    "    },\n",
    "    \"phone_number\": \"+44 20 7946 0627\",\n",
    "    \"rating\": None,\n",
    "    \"cuisine_type\": \"Halal\"\n",
    "}"
   ]
  },
  {
   "cell_type": "code",
   "execution_count": 17,
   "id": "a6e5cece",
   "metadata": {},
   "outputs": [
    {
     "data": {
      "text/plain": [
       "InsertOneResult(ObjectId('677cb7782b2b04896342aa43'), acknowledged=True)"
      ]
     },
     "execution_count": 17,
     "metadata": {},
     "output_type": "execute_result"
    }
   ],
   "source": [
    "# Insert the new restaurant into the collection\n",
    "db.establishments.insert_one(new_restaurant)"
   ]
  },
  {
   "cell_type": "code",
   "execution_count": 18,
   "id": "63bb10f9",
   "metadata": {},
   "outputs": [],
   "source": [
    "# Check that the new restaurant was inserted\n",
    "new_restaurant = db.establishments.find_one({\"business_name\": \"Penang Flavours\"})"
   ]
  },
  {
   "cell_type": "markdown",
   "id": "0ef4395a",
   "metadata": {},
   "source": [
    "2. Find the BusinessTypeID for \"Restaurant/Cafe/Canteen\" and return only the `BusinessTypeID` and `BusinessType` fields."
   ]
  },
  {
   "cell_type": "code",
   "execution_count": 20,
   "id": "93c63829",
   "metadata": {},
   "outputs": [],
   "source": [
    "# Find the BusinessTypeID for \"Restaurant/Cafe/Canteen\" and return only the BusinessTypeID and BusinessType fields\n",
    "business_type = db.establishments.find_one(\n",
    "    {\"BusinessType\": \"Restaurant/Cafe/Canteen\"},\n",
    "    {\"BusinessTypeID\": 1, \"BusinessType\": 1, \"_id\": 0}\n",
    ")"
   ]
  },
  {
   "cell_type": "markdown",
   "id": "4e570caf",
   "metadata": {},
   "source": [
    "3. Update the new restaurant with the `BusinessTypeID` you found."
   ]
  },
  {
   "cell_type": "code",
   "execution_count": 22,
   "id": "1c48a545-6643-45aa-853b-bcbe5a2273f3",
   "metadata": {},
   "outputs": [],
   "source": [
    "# Define the BusinessTypeID \n",
    "business_type_id = 1"
   ]
  },
  {
   "cell_type": "code",
   "execution_count": 23,
   "id": "7f599f3d",
   "metadata": {},
   "outputs": [
    {
     "data": {
      "text/plain": [
       "UpdateResult({'n': 0, 'nModified': 0, 'ok': 1.0, 'updatedExisting': False}, acknowledged=True)"
      ]
     },
     "execution_count": 23,
     "metadata": {},
     "output_type": "execute_result"
    }
   ],
   "source": [
    "# Update the new restaurant with the correct BusinessTypeID\n",
    "db.establishments.update_one(\n",
    "    {\"Business_name\": \"Penang Flavours\"},\n",
    "    {\"$set\": {\"BusinessTypeID\": business_type_id}}\n",
    ")"
   ]
  },
  {
   "cell_type": "code",
   "execution_count": 24,
   "id": "a6ad16f7",
   "metadata": {},
   "outputs": [],
   "source": [
    "# Confirm that the new restaurant was updated\n",
    "updated_restaurant = db.establishments.find_one({\"business_name\": \"Penang Flavours\"})"
   ]
  },
  {
   "cell_type": "markdown",
   "id": "67281254",
   "metadata": {},
   "source": [
    "4. The magazine is not interested in any establishments in Dover, so check how many documents contain the Dover Local Authority. Then, remove any establishments within the Dover Local Authority from the database, and check the number of documents to ensure they were deleted."
   ]
  },
  {
   "cell_type": "code",
   "execution_count": 26,
   "id": "768474a6",
   "metadata": {},
   "outputs": [],
   "source": [
    "# Find how many documents have LocalAuthorityName as \"Dover\"\n",
    "dover_count = db.establishments.count_documents({\"LocalAuthorityName\": \"Dover\"})"
   ]
  },
  {
   "cell_type": "code",
   "execution_count": 27,
   "id": "a11d5f1b",
   "metadata": {},
   "outputs": [],
   "source": [
    "# Delete all documents where LocalAuthorityName is \"Dover\"\n",
    "delete_result = db.establishments.delete_many({\"LocalAuthorityName\": \"Dover\"})"
   ]
  },
  {
   "cell_type": "code",
   "execution_count": 28,
   "id": "2a51aba0",
   "metadata": {},
   "outputs": [],
   "source": [
    "# Check if any remaining documents include Dover\n",
    "remaining_dover_docs = db.establishments.count_documents({\"LocalAuthorityName\": \"Dover\"})"
   ]
  },
  {
   "cell_type": "code",
   "execution_count": 29,
   "id": "8c356f7b",
   "metadata": {},
   "outputs": [],
   "source": [
    "# Check that other documents remain with 'find_one'\n",
    "remaining_document = db.establishments.find_one()"
   ]
  },
  {
   "attachments": {},
   "cell_type": "markdown",
   "id": "e9f1662d",
   "metadata": {},
   "source": [
    "5. Some of the number values are stored as strings, when they should be stored as numbers."
   ]
  },
  {
   "attachments": {},
   "cell_type": "markdown",
   "id": "c46df2df",
   "metadata": {},
   "source": [
    "Use `update_many` to convert `latitude` and `longitude` to decimal numbers."
   ]
  },
  {
   "cell_type": "code",
   "execution_count": 32,
   "id": "fd4112ce",
   "metadata": {},
   "outputs": [
    {
     "data": {
      "text/plain": [
       "UpdateResult({'n': 0, 'nModified': 0, 'ok': 1.0, 'updatedExisting': False}, acknowledged=True)"
      ]
     },
     "execution_count": 32,
     "metadata": {},
     "output_type": "execute_result"
    }
   ],
   "source": [
    "# Change the data type from String to Decimal for longitude and latitude\n",
    "\n",
    "db.establishments.update_many(\n",
    "    {\"longitude\": {\"$type\": \"string\"}, \"latitude\": {\"$type\": \"string\"}},\n",
    "    {\"$set\": {\n",
    "        \"longitude\": {\"$convert\": {\"input\": \"$longitude\", \"to\": \"decimal\"}},\n",
    "        \"latitude\": {\"$convert\": {\"input\": \"$latitude\", \"to\": \"decimal\"}}\n",
    "    }}\n",
    ")"
   ]
  },
  {
   "attachments": {},
   "cell_type": "markdown",
   "id": "142e319c",
   "metadata": {},
   "source": [
    "Use `update_many` to convert `RatingValue` to integer numbers."
   ]
  },
  {
   "cell_type": "code",
   "execution_count": 34,
   "id": "04430a5b",
   "metadata": {},
   "outputs": [
    {
     "data": {
      "text/plain": [
       "UpdateResult({'n': 0, 'nModified': 0, 'ok': 1.0, 'updatedExisting': False}, acknowledged=True)"
      ]
     },
     "execution_count": 34,
     "metadata": {},
     "output_type": "execute_result"
    }
   ],
   "source": [
    "# Set non 1-5 Rating Values to Null\n",
    "non_ratings = [\"AwaitingInspection\", \"Awaiting Inspection\", \"AwaitingPublication\", \"Pass\", \"Exempt\"]\n",
    "establishments.update_many({\"RatingValue\": {\"$in\": non_ratings}}, [ {'$set':{ \"RatingValue\" : None}} ])"
   ]
  },
  {
   "cell_type": "code",
   "execution_count": 35,
   "id": "92524ccc",
   "metadata": {},
   "outputs": [],
   "source": [
    "# Change the data type from String to Integer for RatingValue\n",
    "\n",
    "cursor = db.establishments.find({\"RatingValue\": {\"$type\": \"string\"}})\n",
    "for document in cursor:\n",
    "    rating_value_str = document[\"RatingValue\"]\n",
    "    rating_value_int = convert_to_int(rating_value_str)\n",
    "    if rating_value_int is not None:\n",
    "        db.establishments.update_one(\n",
    "            {\"_id\": document[\"_id\"]},\n",
    "            {\"$set\": {\"RatingValue\": rating_value_int}}\n",
    "        )"
   ]
  },
  {
   "cell_type": "code",
   "execution_count": 36,
   "id": "0deacaf9",
   "metadata": {},
   "outputs": [],
   "source": [
    "# Check that the coordinates and rating value are now numbers\n",
    "\n",
    "sample_document = db.establishments.find_one(\n",
    "    {\"RatingValue\": {\"$type\": \"int\"}, \"longitude\": {\"$type\": \"decimal\"}, \"latitude\": {\"$type\": \"decimal\"}},\n",
    "    {\"RatingValue\": 1, \"longitude\": 1, \"latitude\": 1, \"_id\": 0}\n",
    ")"
   ]
  },
  {
   "cell_type": "code",
   "execution_count": 37,
   "id": "7ca6b053-3227-47e6-82ef-8f05fc1d56cf",
   "metadata": {},
   "outputs": [],
   "source": [
    "# Create a dictionary for the new restaurant\n",
    "new_restaurant = {\n",
    "    \"business_name\": \"Penang Flavours\",\n",
    "    \"business_type\": \"Restaurant\",\n",
    "    \"address\": {\n",
    "        \"street\": \"123 Greenwich High Road\",\n",
    "        \"city\": \"Greenwich\",\n",
    "        \"postcode\": \"SE10 8JA\"\n",
    "    },\n",
    "    \"phone_number\": \"+44 20 7946 0627\",\n",
    "    \"rating\": None,\n",
    "    \"cuisine_type\": \"Halal\"\n",
    "}"
   ]
  },
  {
   "cell_type": "code",
   "execution_count": 38,
   "id": "19242cf4-bf8c-4e50-b641-976e7f004199",
   "metadata": {},
   "outputs": [],
   "source": [
    "# Find the business type ID for the restaurant/cafe/canteen and return only the business type IDS and business type fields.\n",
    "business_type = db.establishments.find_one(\n",
    "    {\"BusinessType\": \"Restaurant/Cafe/Canteen\"},\n",
    "    {\"BusinessTypeID\": 1, \"BusinessType\": 1, \"_id\": 0}\n",
    ")\n"
   ]
  },
  {
   "cell_type": "code",
   "execution_count": 39,
   "id": "55212daa-fd41-418f-85a3-d1160eb8b077",
   "metadata": {},
   "outputs": [
    {
     "name": "stdout",
     "output_type": "stream",
     "text": [
      "BusinessTypeID for 'Restaurant/Cafe/Canteen' not found.\n"
     ]
    }
   ],
   "source": [
    "# Update the new restaurant with the correct BusinessTypeID\n",
    "if business_type:\n",
    "    db.establishments.update_one(\n",
    "        {\"business_name\": \"Penang Flavours\"},\n",
    "        {\"$set\": {\"BusinessTypeID\": business_type_id}}\n",
    "    )\n",
    "    print(\"New restaurant updated with BusinessTypeID!\")\n",
    "else:\n",
    "    print(\"BusinessTypeID for 'Restaurant/Cafe/Canteen' not found.\")\n"
   ]
  },
  {
   "cell_type": "code",
   "execution_count": 40,
   "id": "78efc45a-b925-4e2c-bae7-de0ef0769a5b",
   "metadata": {},
   "outputs": [
    {
     "name": "stdout",
     "output_type": "stream",
     "text": [
      "Number of documents with LocalAuthorityName as 'Dover': 0\n"
     ]
    }
   ],
   "source": [
    "# Find how many documents contain the Dover Local Authority\n",
    "dover_count = db.establishments.count_documents({\"LocalAuthorityName\": \"Dover\"})\n",
    "print(f\"Number of documents with LocalAuthorityName as 'Dover': {dover_count}\")"
   ]
  },
  {
   "cell_type": "code",
   "execution_count": 41,
   "id": "74924680-27e1-4a83-909c-a4bc8057024c",
   "metadata": {},
   "outputs": [
    {
     "name": "stdout",
     "output_type": "stream",
     "text": [
      "Number of documents deleted: 0\n"
     ]
    }
   ],
   "source": [
    "# Remove any establishments within the Dover Local Authority\n",
    "delete_result = db.establishments.delete_many({\"LocalAuthorityName\": \"Dover\"})\n",
    "print(f\"Number of documents deleted: {delete_result.deleted_count}\")"
   ]
  },
  {
   "cell_type": "code",
   "execution_count": 42,
   "id": "ac4b0769-b3f6-4483-b982-4a77af9c3dce",
   "metadata": {},
   "outputs": [
    {
     "name": "stdout",
     "output_type": "stream",
     "text": [
      "Remaining documents with LocalAuthorityName as 'Dover': 0\n"
     ]
    }
   ],
   "source": [
    "# Find the number of documents to ensure they were deleted\n",
    "remaining_docs_count = db.establishments.count_documents({\"LocalAuthorityName\": \"Dover\"})\n",
    "print(f\"Remaining documents with LocalAuthorityName as 'Dover': {remaining_docs_count}\")"
   ]
  },
  {
   "cell_type": "code",
   "execution_count": 43,
   "id": "6120bda8-f166-43b4-acda-112f33245ffd",
   "metadata": {},
   "outputs": [
    {
     "name": "stdout",
     "output_type": "stream",
     "text": [
      "Latitude and longitude fields updated to Decimal128.\n"
     ]
    }
   ],
   "source": [
    "# Update latitude and longitude fields from String to Decimal128\n",
    "db.establishments.update_many(\n",
    "    {\"latitude\": {\"$type\": \"string\"}, \"longitude\": {\"$type\": \"string\"}},\n",
    "    [{\"$set\": {\"latitude\": {\"$toDecimal\": \"$latitude\"}, \"longitude\": {\"$toDecimal\": \"$longitude\"}}}]\n",
    ")\n",
    "\n",
    "print(\"Latitude and longitude fields updated to Decimal128.\")\n"
   ]
  },
  {
   "cell_type": "code",
   "execution_count": 44,
   "id": "e2b0caaf-5437-48f7-98b5-5ff4c0ab474c",
   "metadata": {},
   "outputs": [
    {
     "name": "stdout",
     "output_type": "stream",
     "text": [
      "RatingValue fields updated to integer.\n"
     ]
    }
   ],
   "source": [
    "# Update RatingValue field from String to Integer\n",
    "cursor = db.establishments.find({\"RatingValue\": {\"$type\": \"string\"}})\n",
    "for document in cursor:\n",
    "    rating_value_str = document[\"RatingValue\"]\n",
    "    rating_value_int = convert_to_int(rating_value_str)\n",
    "    if rating_value_int is not None:\n",
    "        db.establishments.update_one(\n",
    "            {\"_id\": document[\"_id\"]},\n",
    "            {\"$set\": {\"RatingValue\": rating_value_int}}\n",
    "        )\n",
    "\n",
    "print(\"RatingValue fields updated to integer.\")\n"
   ]
  },
  {
   "cell_type": "code",
   "execution_count": null,
   "id": "8033b8a3-0eef-46e1-832e-be4b869560bf",
   "metadata": {},
   "outputs": [],
   "source": []
  }
 ],
 "metadata": {
  "kernelspec": {
   "display_name": "Python 3 (ipykernel)",
   "language": "python",
   "name": "python3"
  },
  "language_info": {
   "codemirror_mode": {
    "name": "ipython",
    "version": 3
   },
   "file_extension": ".py",
   "mimetype": "text/x-python",
   "name": "python",
   "nbconvert_exporter": "python",
   "pygments_lexer": "ipython3",
   "version": "3.12.4"
  }
 },
 "nbformat": 4,
 "nbformat_minor": 5
}
