{
 "cells": [
  {
   "cell_type": "markdown",
   "id": "9a57c4c6",
   "metadata": {},
   "source": [
    "# Eat Safe, Love"
   ]
  },
  {
   "cell_type": "markdown",
   "id": "064ef857",
   "metadata": {},
   "source": [
    "## Notebook Set Up"
   ]
  },
  {
   "cell_type": "code",
   "execution_count": 78,
   "id": "3ecdd008",
   "metadata": {},
   "outputs": [],
   "source": [
    "from pymongo import MongoClient\n",
    "import pandas as pd\n",
    "from pprint import pprint"
   ]
  },
  {
   "cell_type": "code",
   "execution_count": 79,
   "id": "59390c4a",
   "metadata": {},
   "outputs": [],
   "source": [
    "# Create an instance of MongoClient\n",
    "mongo = MongoClient(port=27017)"
   ]
  },
  {
   "cell_type": "code",
   "execution_count": 80,
   "id": "af27afc7-d9dd-43c1-8432-66ce5f27192a",
   "metadata": {},
   "outputs": [
    {
     "name": "stdout",
     "output_type": "stream",
     "text": [
      "Databases:\n",
      "['admin', 'config', 'local', 'met', 'uk_food', 'your_database']\n",
      "\n",
      "The database 'uk_food' is listed.\n",
      "\n",
      "Collections in 'uk_food' database:\n",
      "['establishments']\n",
      "\n",
      "The collection 'establishments' is listed.\n",
      "\n",
      "One document in the 'establishments' collection:\n",
      "{'BusinessTypeID': 1,\n",
      " '_id': ObjectId('677631098395d0c46d4ecd00'),\n",
      " 'address': {'city': 'Greenwich',\n",
      "             'postcode': 'SE10 8JA',\n",
      "             'street': '123 Greenwich High Road'},\n",
      " 'business_name': 'Penang Flavours',\n",
      " 'business_type': 'Restaurant',\n",
      " 'cuisine_type': 'Halal',\n",
      " 'phone_number': '+44 20 7946 0627',\n",
      " 'rating': None}\n"
     ]
    }
   ],
   "source": [
    "from pymongo import MongoClient\n",
    "from pprint import pprint\n",
    "\n",
    "# Create an instance of MongoClient\n",
    "mongo = MongoClient(port=27017)\n",
    "\n",
    "# List the databases you have in MongoDB\n",
    "databases = mongo.list_database_names()\n",
    "print(\"Databases:\")\n",
    "print(databases)\n",
    "\n",
    "# Confirm that uk_food is listed\n",
    "if \"uk_food\" in databases:\n",
    "    print(\"\\nThe database 'uk_food' is listed.\")\n",
    "else:\n",
    "    print(\"\\nThe database 'uk_food' is not listed.\")\n",
    "\n",
    "# Select the uk_food database\n",
    "db = mongo['uk_food']\n",
    "\n",
    "# List the collection(s) in the database to ensure that establishments is there\n",
    "collections = db.list_collection_names()\n",
    "print(\"\\nCollections in 'uk_food' database:\")\n",
    "print(collections)\n",
    "\n",
    "# Confirm that establishments is listed\n",
    "if \"establishments\" in collections:\n",
    "    print(\"\\nThe collection 'establishments' is listed.\")\n",
    "else:\n",
    "    print(\"\\nThe collection 'establishments' is not listed.\")\n",
    "\n",
    "# Find and display one document in the establishments collection using find_one and display with pprint\n",
    "document = db['establishments'].find_one()\n",
    "print(\"\\nOne document in the 'establishments' collection:\")\n",
    "pprint(document)\n"
   ]
  },
  {
   "cell_type": "code",
   "execution_count": 81,
   "id": "71e373c1",
   "metadata": {},
   "outputs": [],
   "source": [
    "# assign the uk_food database to a variable name\n",
    "db = mongo['uk_food']"
   ]
  },
  {
   "cell_type": "code",
   "execution_count": 82,
   "id": "18ab463c",
   "metadata": {},
   "outputs": [],
   "source": [
    "# review the collections in our database\n",
    "collections = db.list_collection_names()\n"
   ]
  },
  {
   "cell_type": "code",
   "execution_count": 83,
   "id": "11c9f11b",
   "metadata": {},
   "outputs": [],
   "source": [
    "# assign the collection to a variable\n",
    "establishments = db['establishments']"
   ]
  },
  {
   "cell_type": "markdown",
   "id": "d5671434",
   "metadata": {},
   "source": [
    "## Part 3: Exploratory Analysis\n",
    "Unless otherwise stated, for each question: \n",
    "* Use `count_documents` to display the number of documents contained in the result.\n",
    "* Display the first document in the results using `pprint`.\n",
    "* Convert the result to a Pandas DataFrame, print the number of rows in the DataFrame, and display the first 10 rows."
   ]
  },
  {
   "cell_type": "markdown",
   "id": "314bd884",
   "metadata": {},
   "source": [
    "### 1. Which establishments have a hygiene score equal to 20?"
   ]
  },
  {
   "cell_type": "code",
   "execution_count": 86,
   "id": "c2da7648",
   "metadata": {},
   "outputs": [
    {
     "name": "stdout",
     "output_type": "stream",
     "text": [
      "Number of establishments with a hygiene score of 20: 0\n",
      "No establishments found with a hygiene score of 20.\n"
     ]
    }
   ],
   "source": [
    "from pymongo import MongoClient\n",
    "from pprint import pprint\n",
    "\n",
    "# Create an instance of MongoClient\n",
    "mongo = MongoClient(port=27017)\n",
    "\n",
    "# Select the database and collection\n",
    "db = mongo['establishment']\n",
    "collection = db['establishment']\n",
    "\n",
    "# Find the establishments with a hygiene score of 20\n",
    "query = {\"scores.Hygiene\": 20}\n",
    "results = list(collection.find(query))\n",
    "\n",
    "# Use count_documents to display the number of documents in the result\n",
    "count = collection.count_documents(query)\n",
    "print(f\"Number of establishments with a hygiene score of 20: {count}\")\n",
    "\n",
    "# Display the first document in the results using pprint\n",
    "if results:\n",
    "    first_document = results[0]\n",
    "    pprint(first_document)\n",
    "else:\n",
    "    print(\"No establishments found with a hygiene score of 20.\")\n"
   ]
  },
  {
   "cell_type": "code",
   "execution_count": 87,
   "id": "a6e5cece",
   "metadata": {},
   "outputs": [
    {
     "name": "stdout",
     "output_type": "stream",
     "text": [
      "Number of rows in the DataFrame: 41\n"
     ]
    }
   ],
   "source": [
    "from pymongo import MongoClient\n",
    "import pandas as pd\n",
    "\n",
    "# Create an instance of MongoClient\n",
    "mongo = MongoClient(port=27017)\n",
    "\n",
    "# Select the database and collection\n",
    "db = mongo['your_database']\n",
    "collection = db['establishments']\n",
    "\n",
    "# Define the query\n",
    "query = {\"scores.Hygiene\": 20}\n",
    "\n",
    "# Convert the result to a Pandas DataFrame\n",
    "results_list = list(collection.find(query))\n",
    "df = pd.DataFrame(results_list)\n",
    "\n",
    "# Display the number of rows in the DataFrame\n",
    "print(f\"Number of rows in the DataFrame: {len(df)}\")"
   ]
  },
  {
   "cell_type": "markdown",
   "id": "0ef4395a",
   "metadata": {},
   "source": [
    "### 2. Which establishments in London have a `RatingValue` greater than or equal to 4?"
   ]
  },
  {
   "cell_type": "code",
   "execution_count": 89,
   "id": "93c63829",
   "metadata": {},
   "outputs": [
    {
     "name": "stdout",
     "output_type": "stream",
     "text": [
      "Number of establishments with London as the Local Authority and a RatingValue >= 4: 0\n",
      "No establishments found with London as the Local Authority and a RatingValue >= 4.\n"
     ]
    }
   ],
   "source": [
    "from pymongo import MongoClient\n",
    "from pprint import pprint\n",
    "\n",
    "# Create an instance of MongoClient\n",
    "mongo = MongoClient(port=27017)\n",
    "\n",
    "# Select the database and collection\n",
    "db = mongo['your_database']\n",
    "collection = db['establishments']\n",
    "\n",
    "# # Find the establishments with London as the Local Authority and has a RatingValue greater than or equal to 4.\n",
    "query = {\n",
    "    \"LocalAuthority\": \"London\",\n",
    "    \"RatingValue\": {\"$gte\": 4}\n",
    "}\n",
    "\n",
    "# Use count_documents to display the number of documents in the result\n",
    "count = collection.count_documents(query)\n",
    "print(f\"Number of establishments with London as the Local Authority and a RatingValue >= 4: {count}\")\n",
    "\n",
    "# Display the first document in the results using pprint\n",
    "results = list(collection.find(query))\n",
    "\n",
    "if results:\n",
    "    first_document = results[0]\n",
    "    pprint(first_document)\n",
    "else:\n",
    "    print(\"No establishments found with London as the Local Authority and a RatingValue >= 4.\")"
   ]
  },
  {
   "cell_type": "code",
   "execution_count": 90,
   "id": "07e24ccb",
   "metadata": {},
   "outputs": [
    {
     "name": "stdout",
     "output_type": "stream",
     "text": [
      "Number of establishments with London as the Local Authority and a RatingValue >= 4: 0\n",
      "Number of rows in the DataFrame: 0\n",
      "Empty DataFrame\n",
      "Columns: []\n",
      "Index: []\n"
     ]
    }
   ],
   "source": [
    "# Create an instance of MongoClient\n",
    "mongo = MongoClient(port=27017)\n",
    "\n",
    "# Select the database and collection\n",
    "db = mongo['your_database']\n",
    "collection = db['establishments']\n",
    "\n",
    "# Define the query\n",
    "query = {\n",
    "    \"LocalAuthority\": \"London\",\n",
    "    \"RatingValue\": {\"$gte\": 4}\n",
    "}\n",
    "\n",
    "# Use count_documents to display the number of documents in the result\n",
    "count = collection.count_documents(query)\n",
    "print(f\"Number of establishments with London as the Local Authority and a RatingValue >= 4: {count}\")\n",
    "\n",
    "# Convert the result to a Pandas DataFrame\n",
    "results = list(collection.find(query))\n",
    "df = pd.DataFrame(results)\n",
    "\n",
    "# Display the number of rows in the DataFrame\n",
    "print(f\"Number of rows in the DataFrame: {len(df)}\")\n",
    "\n",
    "# Display the first 10 rows of the DataFrame\n",
    "print(df.head(10))"
   ]
  },
  {
   "attachments": {},
   "cell_type": "markdown",
   "id": "4e570caf",
   "metadata": {},
   "source": [
    "### 3. What are the top 5 establishments with a `RatingValue` rating value of 5, sorted by lowest hygiene score, nearest to the new restaurant added, \"Penang Flavours\"?"
   ]
  },
  {
   "cell_type": "code",
   "execution_count": 92,
   "id": "7f599f3d",
   "metadata": {},
   "outputs": [],
   "source": [
    "from pymongo import MongoClient\n",
    "from pprint import pprint\n",
    "\n",
    "# Create an instance of MongoClient\n",
    "mongo = MongoClient(port=27017)\n",
    "\n",
    "# Select the database and collection\n",
    "db = mongo['establishment']\n",
    "collection = db['establishments']\n",
    "\n",
    "\n",
    "# Define the latitude and longitude of \"Penang Flavours\"\n",
    "latitude = 51.152225  \n",
    "longitude = 1.387974  \n",
    "\n",
    "# Define the degree search range\n",
    "degree_search = 0.01\n",
    "\n",
    "# Define the query to search within the specified range and with a RatingValue of 5\n",
    "query = {\n",
    "    \"RatingValue\": 5,\n",
    "    \"geocode.latitude\": {\"$gte\": latitude - degree_search, \"$lte\": latitude + degree_search},\n",
    "    \"geocode.longitude\": {\"$gte\": longitude - degree_search, \"$lte\": longitude + degree_search}\n",
    "}\n",
    "\n",
    "# Sort by hygiene score\n",
    "sort = [(\"scores.Hygiene\", 1)]\n",
    "\n",
    "# Limit the results to the top 5\n",
    "limit = 5\n",
    "\n",
    "# Execute the query with sorting and limiting\n",
    "results = collection.find(query).sort(sort).limit(limit)\n",
    "\n",
    "# Convert the result to a list\n",
    "results_list = list(results)\n",
    "\n",
    "# Print the results\n",
    "for result in results_list:\n",
    "    pprint(result)"
   ]
  },
  {
   "cell_type": "code",
   "execution_count": 93,
   "id": "a6ad16f7",
   "metadata": {},
   "outputs": [],
   "source": [
    "# Convert result to Pandas DataFrame\n",
    "results_list = list(results) \n",
    "df = pd.DataFrame(results_list)"
   ]
  },
  {
   "cell_type": "markdown",
   "id": "67281254",
   "metadata": {},
   "source": [
    "### 4. How many establishments in each Local Authority area have a hygiene score of 0?"
   ]
  },
  {
   "cell_type": "code",
   "execution_count": 95,
   "id": "4eeb227e",
   "metadata": {},
   "outputs": [
    {
     "name": "stdout",
     "output_type": "stream",
     "text": [
      "Number of documents in the result: 0\n"
     ]
    }
   ],
   "source": [
    "# Create a pipeline that:\n",
    "\n",
    "pipeline = [\n",
    "    # Match establishments with a hygiene score of 0\n",
    "    {\"$match\": {\"scores.Hygiene\": 0}},\n",
    "    \n",
    "    # Group the matches by Local Authority\n",
    "    {\"$group\": {\"_id\": \"$LocalAuthority\", \"count\": {\"$sum\": 1}}},\n",
    "    \n",
    "    # Sort the matches from highest to lowest\n",
    "    {\"$sort\": {\"count\": -1}}\n",
    "]\n",
    "\n",
    "# Execute the aggregation pipeline\n",
    "results = collection.aggregate(pipeline)\n",
    "\n",
    "# Convert the results to a list\n",
    "results_list = list(results)\n",
    "\n",
    "# Print the number of documents in the result\n",
    "print(f\"Number of documents in the result: {len(results_list)}\")\n",
    "\n",
    "# Print the first 10 results\n",
    "for result in results_list[:10]:\n",
    "    pprint(result)"
   ]
  },
  {
   "cell_type": "code",
   "execution_count": 96,
   "id": "d8aab364",
   "metadata": {},
   "outputs": [
    {
     "name": "stdout",
     "output_type": "stream",
     "text": [
      "Number of rows in the DataFrame: 0\n",
      "Empty DataFrame\n",
      "Columns: []\n",
      "Index: []\n"
     ]
    }
   ],
   "source": [
    "# Convert the result to a Pandas DataFrame \n",
    "df = pd.DataFrame(results_list) \n",
    "\n",
    "# Display the number of rows in the DataFrame \n",
    "print(f\"Number of rows in the DataFrame: {len(df)}\") \n",
    "\n",
    "# Display the first 10 rows of the DataFrame \n",
    "print(df.head(10))"
   ]
  },
  {
   "cell_type": "code",
   "execution_count": null,
   "id": "55df1e2b-fa26-4eb4-a532-63bad32c0e70",
   "metadata": {},
   "outputs": [],
   "source": []
  }
 ],
 "metadata": {
  "kernelspec": {
   "display_name": "Python 3 (ipykernel)",
   "language": "python",
   "name": "python3"
  },
  "language_info": {
   "codemirror_mode": {
    "name": "ipython",
    "version": 3
   },
   "file_extension": ".py",
   "mimetype": "text/x-python",
   "name": "python",
   "nbconvert_exporter": "python",
   "pygments_lexer": "ipython3",
   "version": "3.12.4"
  }
 },
 "nbformat": 4,
 "nbformat_minor": 5
}
